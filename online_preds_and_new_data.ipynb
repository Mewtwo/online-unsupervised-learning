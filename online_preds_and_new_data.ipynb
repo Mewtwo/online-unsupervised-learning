{
  "nbformat": 4,
  "nbformat_minor": 0,
  "metadata": {
    "accelerator": "GPU",
    "colab": {
      "name": "online-preds-and-new-data.ipynb",
      "provenance": [],
      "collapsed_sections": [],
      "machine_shape": "hm"
    },
    "kernelspec": {
      "display_name": "Python 3",
      "name": "python3"
    }
  },
  "cells": [
    {
      "cell_type": "code",
      "metadata": {
        "id": "Wl_Kc9JD9cLm"
      },
      "source": [
        "#imports\n",
        "import os\n",
        "\n",
        "from google.colab import drive\n",
        "import numpy as np\n",
        "import matplotlib as plt\n",
        "from matplotlib import pyplot\n",
        "import pandas as pd\n",
        "import tensorflow as tf\n",
        "from sklearn.model_selection import train_test_split\n",
        "from keras.models import load_model\n",
        "from sklearn.utils import shuffle"
      ],
      "execution_count": null,
      "outputs": []
    },
    {
      "cell_type": "code",
      "metadata": {
        "colab": {
          "base_uri": "https://localhost:8080/"
        },
        "id": "0T5PSKzF9jgG",
        "outputId": "10631165-58ce-4dad-9346-d12b1d3616af"
      },
      "source": [
        "#loading data from drive\n",
        "drive.mount('/content/drive')\n",
        "os.chdir('/content/drive/My Drive/ICASSP-2021/')"
      ],
      "execution_count": null,
      "outputs": [
        {
          "output_type": "stream",
          "text": [
            "Drive already mounted at /content/drive; to attempt to forcibly remount, call drive.mount(\"/content/drive\", force_remount=True).\n"
          ],
          "name": "stdout"
        }
      ]
    },
    {
      "cell_type": "markdown",
      "metadata": {
        "id": "J5yR0QB_rafh"
      },
      "source": [
        "Toggles that may need to be changed every round denoted by ###"
      ]
    },
    {
      "cell_type": "code",
      "metadata": {
        "id": "90JFV_qyDprN"
      },
      "source": [
        "#directory that holds folders with each test set\n",
        "#each test set folder will contain numpy arrays with prepared images for each patient\n",
        "os.chdir('/content/drive/My Drive/ICASSP-2021/extra-test-arrays/')\n",
        "\n",
        "#test set 1: Change source and name here\n",
        "source = 'covid/'      ### subfolder with test set images\n",
        "name = 'covid4.csv'      ### name of predictions file to save\n",
        "\n",
        "#test set 2: change name and source\n",
        "source2 = 'normal/'   ### subfolder with test set images\n",
        "name = 'normal4.csv'    ### name of predictions file to save"
      ],
      "execution_count": null,
      "outputs": []
    },
    {
      "cell_type": "code",
      "metadata": {
        "id": "NdL0-CTZufRh"
      },
      "source": [
        "\n",
        "quarter = 4     ### the quarter of the test data to get predictions and new data from\n",
        "this_q = str(quarter)\n",
        "previous_q = str(quarter - 1)\n",
        "old_data_dest = '/content/drive/My Drive/ICASSP-2021/extra-online-data/'      ### location of data used to train most recent model\n",
        "new_data_dest = '/content/drive/My Drive/ICASSP-2021/extra-online-data/'      ### location for updated data to be saved\n",
        "preds_dest = '/content/drive/My Drive/ICASSP-2021/extra-results/'      ### location for predictions files to be saved"
      ],
      "execution_count": null,
      "outputs": []
    },
    {
      "cell_type": "code",
      "metadata": {
        "id": "JhHviUGs-RNx"
      },
      "source": [
        "\n",
        "def extract_avgs(folder, model, quarter): \n",
        "    os.chdir(folder)\n",
        "    start = round(len(os.listdir()) * 0.25 * (quarter - 1))\n",
        "    end = round(len(os.listdir()) * 0.25 * quarter)\n",
        "\n",
        "    avgs = []\n",
        "    names = []\n",
        "    pos_list = []\n",
        "    neg_list = []\n",
        "    lens = []\n",
        "    for i in range(len(os.listdir())):\n",
        "        if (i < start):\n",
        "            continue       \n",
        "        if (i >= end):\n",
        "            continue    \n",
        "        next_numpy = np.load(os.listdir()[i])\n",
        "        lens.append(len(next_numpy))\n",
        "        names.append(os.listdir()[i])\n",
        "        processed = pre_p(next_numpy)\n",
        "        probs = model.predict(processed)\n",
        "        next_pos = []\n",
        "        for i in range(len(probs)):\n",
        "            if (probs[i][1] > 0.9):\n",
        "                next_pos.append(i)\n",
        "        pos_list.append(next_pos)     \n",
        "        next_neg = []\n",
        "        for i in range(len(probs)):\n",
        "            if (probs[i][0] > 0.9):\n",
        "                next_neg.append(i)\n",
        "        neg_list.append(next_neg)               \n",
        "        # average the guesses\n",
        "        average = np.mean(probs, axis=0)\n",
        "        avgs.append(average)\n",
        "\n",
        "    os.chdir('..')\n",
        "    return avgs, names, pos_list, neg_list, lens\n",
        "\n",
        "def pre_p(np_array):\n",
        "    max_value = (np.max(np_array))   \n",
        "    H=224\n",
        "    W=224\n",
        "    train_val_sizing = tf.keras.layers.experimental.preprocessing.Resizing(\n",
        "        H, W, interpolation=\"bilinear\"\n",
        "    ) \n",
        "    #np_array = train_val_sizing(np_array)\n",
        "    np_array = np_array / np.max(np_array)\n",
        "    np_array = np.concatenate((np_array, np_array, np_array), axis = -1)\n",
        "    return np_array\n"
      ],
      "execution_count": null,
      "outputs": []
    },
    {
      "cell_type": "code",
      "metadata": {
        "id": "fwRgCvSIVIMu"
      },
      "source": [
        "def get_healthy_preds(X_val, pos_list, lens, h_recalls):\n",
        "    preds = []\n",
        "    multiplier = h_recalls[1] / h_recalls[0]\n",
        "    for i in range(len(X_val)):\n",
        "        if ((multiplier * X_val[i][0]) > (5 * X_val[i][1])):\n",
        "            preds.append(0)\n",
        "        else:\n",
        "            preds.append(1)      \n",
        "    return preds        "
      ],
      "execution_count": null,
      "outputs": []
    },
    {
      "cell_type": "code",
      "metadata": {
        "id": "-svNM8agcqps"
      },
      "source": [
        "def get_covCap_preds(X_val, cap_list, cov_list, pos_list, c_recalls):\n",
        "    preds = []\n",
        "    multiplier = c_recalls[1] / c_recalls[0]\n",
        "    for i in range(len(X_val)):\n",
        "        if ((multiplier * X_val[i][0]) > (1 * X_val[i][1])):\n",
        "            preds.append(0)\n",
        "        else:\n",
        "            preds.append(1)    \n",
        "    for i in range(len(cov_list)):\n",
        "        count1 = 0\n",
        "        count0 = 0\n",
        "        for j in range(len(cov_list[i])):\n",
        "            if (cov_list[i][j] in pos_list[i]):\n",
        "                count0 += 1\n",
        "        for k in range(len(cap_list[i])):        \n",
        "            if (cap_list[i][k] in pos_list[i]):\n",
        "                count1 += 1    \n",
        "\n",
        "        print('0: ' + str(count0))\n",
        "        print('1: ' + str(count1))\n",
        "        print()   \n",
        "    return preds        "
      ],
      "execution_count": null,
      "outputs": []
    },
    {
      "cell_type": "code",
      "metadata": {
        "id": "mrNaCvlZHqJI"
      },
      "source": [
        "def get_final_preds(healthy_preds, covCap_preds):\n",
        "    total = len(healthy_preds)\n",
        "    final_preds  = []\n",
        "    for i in range(total):\n",
        "        if (healthy_preds[i] == 0):\n",
        "            final_preds.append(\"Normal\")\n",
        "        else:\n",
        "            if (covCap_preds[i] == 0):\n",
        "                final_preds.append(\"COVID-19\")\n",
        "            else:\n",
        "                final_preds.append(\"CAP\")      \n",
        "    return final_preds              "
      ],
      "execution_count": null,
      "outputs": []
    },
    {
      "cell_type": "code",
      "metadata": {
        "id": "k0jHL4E8JYB3"
      },
      "source": [
        "def check_and_combine(final_preds, names1, names2):\n",
        "    for i in range(len(names1)):\n",
        "        if (names1[i] != names2[i]):\n",
        "            print(\"error: names out of order\")\n",
        "            break\n",
        "    d = {'Patient': names1, 'Class': final_preds}\n",
        "    df = pd.DataFrame(data=d)\n",
        "    return df"
      ],
      "execution_count": null,
      "outputs": []
    },
    {
      "cell_type": "code",
      "metadata": {
        "id": "3VGdYL-yP9_C"
      },
      "source": [
        "def save_to_csv(df, dest_folder, name):\n",
        "    df.to_csv(dest_folder + name, index=False)\n",
        "    return"
      ],
      "execution_count": null,
      "outputs": []
    },
    {
      "cell_type": "code",
      "metadata": {
        "id": "Y0vz38rERVaA"
      },
      "source": [
        "def get_results(name, dest_folder, source_folder, healthy_model, covCap_model, quarter, h_recalls, c_recalls):  \n",
        "    test_avgs, test_names, pos_list, neg_list, lens = extract_avgs(source_folder, healthy_model, quarter)\n",
        "    test_healthy_preds = get_healthy_preds(test_avgs, pos_list, lens, h_recalls)\n",
        "\n",
        "    test_avgs_p2, test_names2, cap_list, cov_list, lens = extract_avgs(source_folder, covCap_model, quarter)\n",
        "    test_covCap_preds = get_covCap_preds(test_avgs_p2, cap_list, cov_list, pos_list, c_recalls)\n",
        "\n",
        "    test_final_preds = get_final_preds(test_healthy_preds, test_covCap_preds)\n",
        "    test_results = check_and_combine(test_final_preds, test_names, test_names2)\n",
        "\n",
        "    save_to_csv(test_results, dest_folder, name)\n",
        "    return test_final_preds, pos_list, neg_list, cap_list, cov_list"
      ],
      "execution_count": null,
      "outputs": []
    },
    {
      "cell_type": "code",
      "metadata": {
        "id": "6_LnRK8b2dzK"
      },
      "source": [
        "def save_new_data(old_data, new_data1, new_data2, name, dest_folder): \n",
        "    data1 = np.concatenate((old_data, new_data1), axis=0)\n",
        "    data = np.concatenate((data1, new_data2), axis=0)\n",
        "    np.save(dest_folder + name, data)\n",
        "    return\n",
        "\n",
        "def saving_pre_p(np_array):\n",
        "    #max_value = (np.max(np_array))   \n",
        "    H=224\n",
        "    W=224\n",
        "    train_val_sizing = tf.keras.layers.experimental.preprocessing.Resizing(\n",
        "        H, W, interpolation=\"bilinear\"\n",
        "    ) \n",
        "    np_array = train_val_sizing(np_array)\n",
        "    #np_array = np_array / np.max(np_array)\n",
        "    #np_array = np.concatenate((np_array, np_array, np_array), axis = -1)\n",
        "    return np_array    \n",
        "\n",
        "def extract_data(folder, quarter, pos_list, neg_list, results, cap_list, cov_list): \n",
        "    os.chdir(folder)\n",
        "    start = round(len(os.listdir()) * 0.25 * (quarter - 1))\n",
        "    end = round(len(os.listdir()) * 0.25 * quarter)\n",
        "    round_total = end - start\n",
        "    train_total = int(round_total * 0.7)\n",
        "    val_total = round_total - train_total\n",
        "\n",
        "    train_lens = []\n",
        "    val_lens = []\n",
        "    total = 0\n",
        "    for i in range(len(os.listdir())):\n",
        "        if (i < start):\n",
        "            continue       \n",
        "        if (i >= end):\n",
        "            continue \n",
        "        print(os.listdir()[i])   \n",
        "        print(results[total]) \n",
        "        next_numpy = np.load(os.listdir()[i])\n",
        "        print(\"first len: \" + str(len(next_numpy)))\n",
        "        if (results[total] == \"Normal\"):\n",
        "            selected_imgs = []\n",
        "            for i in range(len(neg_list[total])):\n",
        "                selected_imgs.append(next_numpy[(neg_list[total][i])])\n",
        "            next_numpy = np.array(selected_imgs)\n",
        "            print(\"after len: \" + str(len(next_numpy)))\n",
        "        if (results[total] == \"COVID-19\"):\n",
        "            selected_imgs = []\n",
        "            for i in range(len(cov_list[total])):\n",
        "                if (cov_list[total][i] in pos_list[total]):\n",
        "                    selected_imgs.append(next_numpy[(cov_list[total][i])])\n",
        "            next_numpy = np.array(selected_imgs)\n",
        "            print(\"after len: \" + str(len(next_numpy)))\n",
        "        if (results[total] == \"CAP\"):\n",
        "            selected_imgs = []\n",
        "            for i in range(len(cap_list[total])):\n",
        "                if (cap_list[total][i] in pos_list[total]):\n",
        "                    selected_imgs.append(next_numpy[(cap_list[total][i])])\n",
        "            next_numpy = np.array(selected_imgs)\n",
        "            print(\"after len: \" + str(len(next_numpy)))  \n",
        "        if (len(next_numpy) == 0):\n",
        "            total += 1\n",
        "            continue          \n",
        "        #next_numpy = saving_pre_p(next_numpy)\n",
        "        if (total < train_total):\n",
        "            train_lens.append(len(next_numpy))\n",
        "            try:\n",
        "                train_data = np.concatenate((train_data, next_numpy), axis=0)\n",
        "            except UnboundLocalError:\n",
        "                train_data = next_numpy\n",
        "        else:\n",
        "            val_lens.append(len(next_numpy))\n",
        "            try:\n",
        "                val_data = np.concatenate((val_data, next_numpy), axis=0)\n",
        "            except UnboundLocalError:\n",
        "                val_data = next_numpy     \n",
        "        total += 1\n",
        "\n",
        "    os.chdir('..')\n",
        "    return train_data, val_data, train_lens, val_lens\n",
        "\n",
        "def get_new_labels(results, train_lengths, val_lengths):\n",
        "    total_len = (len(train_lengths) + len(val_lengths))\n",
        "    new_train_labels = []\n",
        "    new_val_labels = []\n",
        "    for i in range(total_len):\n",
        "        if (i < (len(train_lengths))):\n",
        "            for j in range(train_lengths[i]):\n",
        "                if (results[i] == \"Normal\"):\n",
        "                    new_train_labels.append(0)\n",
        "                if (results[i] == \"COVID-19\"):\n",
        "                    new_train_labels.append(1)       \n",
        "                if (results[i] == \"CAP\"):\n",
        "                    new_train_labels.append(2)       \n",
        "\n",
        "        else:\n",
        "            for j in range(val_lengths[i - len(train_lengths)]):\n",
        "                if (results[i] == \"Normal\"):\n",
        "                    new_val_labels.append(0)\n",
        "                if (results[i] == \"COVID-19\"):\n",
        "                    new_val_labels.append(1)       \n",
        "                if (results[i] == \"CAP\"):\n",
        "                    new_val_labels.append(2)      \n",
        "\n",
        "    new_train_labels = np.array(new_train_labels)        \n",
        "    new_val_labels = np.array(new_val_labels)                     \n",
        "    return new_train_labels, new_val_labels              "
      ],
      "execution_count": null,
      "outputs": []
    },
    {
      "cell_type": "code",
      "metadata": {
        "id": "PKobNcx-T9o9"
      },
      "source": [
        "covCap_model = load_model('/content/drive/My Drive/ICASSP-2021/extra-online-data/cov-cap-extra' + previous_q + '.hdf5')    "
      ],
      "execution_count": null,
      "outputs": []
    },
    {
      "cell_type": "code",
      "metadata": {
        "id": "BJy2x9Ot91Kb"
      },
      "source": [
        "healthy_model = load_model('/content/drive/My Drive/ICASSP-2021/extra-online-data/healthy-sick-extra' + previous_q + '.hdf5')    "
      ],
      "execution_count": null,
      "outputs": []
    },
    {
      "cell_type": "code",
      "metadata": {
        "id": "9H1u9K2rCgzr"
      },
      "source": [
        "old_train_data = np.load(old_data_dest + 'extra_train' + previous_q + '.npy') \n",
        "old_val_data = np.load(old_data_dest + 'extra_val' + previous_q + '.npy') \n",
        "old_train_labels = np.load(old_data_dest + 'extra_train_labels' + previous_q + '.npy') \n",
        "old_val_labels = np.load(old_data_dest + 'extra_val_labels' + previous_q + '.npy') "
      ],
      "execution_count": null,
      "outputs": []
    },
    {
      "cell_type": "code",
      "metadata": {
        "id": "ejonjQiteMcM"
      },
      "source": [
        "h_recalls = np.load('/content/drive/My Drive/ICASSP-2021/online-code/recalls/extra-online-data/h_recalls' + previous_q + '.npy')  \n",
        "c_recalls = np.load('/content/drive/My Drive/ICASSP-2021/online-code/recalls/extra-online-data/c_recalls' + previous_q + '.npy')  "
      ],
      "execution_count": null,
      "outputs": []
    },
    {
      "cell_type": "code",
      "metadata": {
        "id": "_cb3YgP4TAVe",
        "colab": {
          "base_uri": "https://localhost:8080/"
        },
        "outputId": "93c4c88b-3bb8-43e9-a7a2-81534728bea8"
      },
      "source": [
        "results, pos_list, neg_list, cap_list, cov_list = get_results(name, preds_dest, source, healthy_model, covCap_model, quarter, h_recalls, c_recalls)\n",
        "\n",
        "results2, pos_list2, neg_list2, cap_list2, cov_list2 = get_results(name, preds_dest, source2, healthy_model, covCap_model, quarter, h_recalls, c_recalls)"
      ],
      "execution_count": null,
      "outputs": [
        {
          "output_type": "stream",
          "text": [
            "0: 28\n",
            "1: 0\n",
            "\n",
            "0: 19\n",
            "1: 1\n",
            "\n",
            "0: 6\n",
            "1: 1\n",
            "\n",
            "0: 6\n",
            "1: 0\n",
            "\n",
            "0: 32\n",
            "1: 0\n",
            "\n",
            "0: 4\n",
            "1: 23\n",
            "\n",
            "0: 9\n",
            "1: 0\n",
            "\n",
            "0: 9\n",
            "1: 1\n",
            "\n",
            "0: 11\n",
            "1: 0\n",
            "\n",
            "0: 14\n",
            "1: 0\n",
            "\n",
            "0: 38\n",
            "1: 0\n",
            "\n",
            "0: 40\n",
            "1: 0\n",
            "\n",
            "0: 2\n",
            "1: 0\n",
            "\n",
            "0: 19\n",
            "1: 0\n",
            "\n",
            "0: 15\n",
            "1: 0\n",
            "\n",
            "0: 7\n",
            "1: 0\n",
            "\n",
            "0: 2\n",
            "1: 11\n",
            "\n",
            "0: 36\n",
            "1: 0\n",
            "\n",
            "0: 29\n",
            "1: 0\n",
            "\n",
            "0: 7\n",
            "1: 0\n",
            "\n",
            "0: 10\n",
            "1: 0\n",
            "\n",
            "0: 15\n",
            "1: 0\n",
            "\n",
            "0: 4\n",
            "1: 0\n",
            "\n",
            "0: 4\n",
            "1: 0\n",
            "\n",
            "0: 5\n",
            "1: 0\n",
            "\n",
            "0: 7\n",
            "1: 0\n",
            "\n",
            "0: 0\n",
            "1: 26\n",
            "\n",
            "0: 6\n",
            "1: 0\n",
            "\n",
            "0: 6\n",
            "1: 0\n",
            "\n",
            "0: 5\n",
            "1: 0\n",
            "\n",
            "0: 5\n",
            "1: 0\n",
            "\n",
            "0: 4\n",
            "1: 0\n",
            "\n",
            "0: 11\n",
            "1: 0\n",
            "\n",
            "0: 8\n",
            "1: 0\n",
            "\n",
            "0: 10\n",
            "1: 0\n",
            "\n",
            "0: 2\n",
            "1: 0\n",
            "\n",
            "0: 3\n",
            "1: 0\n",
            "\n",
            "0: 6\n",
            "1: 0\n",
            "\n",
            "0: 4\n",
            "1: 2\n",
            "\n",
            "0: 5\n",
            "1: 0\n",
            "\n",
            "0: 4\n",
            "1: 0\n",
            "\n",
            "0: 8\n",
            "1: 1\n",
            "\n",
            "0: 2\n",
            "1: 0\n",
            "\n",
            "0: 7\n",
            "1: 0\n",
            "\n",
            "0: 12\n",
            "1: 0\n",
            "\n",
            "0: 4\n",
            "1: 0\n",
            "\n",
            "0: 13\n",
            "1: 0\n",
            "\n",
            "0: 0\n",
            "1: 0\n",
            "\n",
            "0: 0\n",
            "1: 0\n",
            "\n",
            "0: 5\n",
            "1: 1\n",
            "\n",
            "0: 5\n",
            "1: 0\n",
            "\n"
          ],
          "name": "stdout"
        }
      ]
    },
    {
      "cell_type": "code",
      "metadata": {
        "id": "b1wCx-WXYRqX"
      },
      "source": [
        "#os.chdir('..')"
      ],
      "execution_count": null,
      "outputs": []
    },
    {
      "cell_type": "code",
      "metadata": {
        "id": "gBm4HmAWALBe",
        "colab": {
          "base_uri": "https://localhost:8080/"
        },
        "outputId": "40a0d955-dcec-40fb-85e9-03cf6f98a1b0"
      },
      "source": [
        "train_data, val_data, train_lens, val_lens = extract_data(source, quarter, pos_list, neg_list, results, cap_list, cov_list)\n",
        "train_data2, val_data2, train_lens2, val_lens2 = extract_data(source2, quarter, pos_list2, neg_list2, results2, cap_list2, cov_list2)"
      ],
      "execution_count": null,
      "outputs": [
        {
          "output_type": "stream",
          "text": [
            "patient76.npy\n",
            "COVID-19\n",
            "first len: 45\n",
            "after len: 28\n",
            "patient41.npy\n",
            "COVID-19\n",
            "first len: 46\n",
            "after len: 19\n",
            "patient10.npy\n",
            "COVID-19\n",
            "first len: 31\n",
            "after len: 6\n",
            "patient28.npy\n",
            "CAP\n",
            "first len: 43\n",
            "after len: 0\n",
            "patient82.npy\n",
            "COVID-19\n",
            "first len: 33\n",
            "after len: 32\n",
            "patient24.npy\n",
            "CAP\n",
            "first len: 40\n",
            "after len: 23\n",
            "patient100.npy\n",
            "COVID-19\n",
            "first len: 45\n",
            "after len: 9\n",
            "patient1.npy\n",
            "COVID-19\n",
            "first len: 34\n",
            "after len: 9\n",
            "patient61.npy\n",
            "COVID-19\n",
            "first len: 25\n",
            "after len: 11\n",
            "patient59.npy\n",
            "COVID-19\n",
            "first len: 43\n",
            "after len: 14\n",
            "patient85.npy\n",
            "COVID-19\n",
            "first len: 38\n",
            "after len: 38\n",
            "patient7.npy\n",
            "COVID-19\n",
            "first len: 48\n",
            "after len: 40\n",
            "patient5.npy\n",
            "COVID-19\n",
            "first len: 44\n",
            "after len: 2\n",
            "patient74.npy\n",
            "COVID-19\n",
            "first len: 46\n",
            "after len: 19\n",
            "patient122.npy\n",
            "COVID-19\n",
            "first len: 37\n",
            "after len: 15\n",
            "patient75.npy\n",
            "CAP\n",
            "first len: 48\n",
            "after len: 0\n",
            "patient15.npy\n",
            "CAP\n",
            "first len: 29\n",
            "after len: 11\n",
            "patient117.npy\n",
            "COVID-19\n",
            "first len: 38\n",
            "after len: 36\n",
            "patient97.npy\n",
            "COVID-19\n",
            "first len: 41\n",
            "after len: 29\n",
            "patient119.npy\n",
            "COVID-19\n",
            "first len: 33\n",
            "after len: 7\n",
            "patient83.npy\n",
            "COVID-19\n",
            "first len: 42\n",
            "after len: 10\n",
            "patient32.npy\n",
            "COVID-19\n",
            "first len: 41\n",
            "after len: 15\n",
            "patient103.npy\n",
            "COVID-19\n",
            "first len: 50\n",
            "after len: 4\n",
            "patient34.npy\n",
            "COVID-19\n",
            "first len: 35\n",
            "after len: 4\n",
            "patient283.npy\n",
            "COVID-19\n",
            "first len: 30\n",
            "after len: 5\n",
            "patient332.npy\n",
            "COVID-19\n",
            "first len: 32\n",
            "after len: 7\n",
            "patient319.npy\n",
            "CAP\n",
            "first len: 35\n",
            "after len: 26\n",
            "patient297.npy\n",
            "COVID-19\n",
            "first len: 45\n",
            "after len: 6\n",
            "patient308.npy\n",
            "COVID-19\n",
            "first len: 37\n",
            "after len: 6\n",
            "patient267.npy\n",
            "CAP\n",
            "first len: 37\n",
            "after len: 0\n",
            "patient326.npy\n",
            "COVID-19\n",
            "first len: 38\n",
            "after len: 5\n",
            "patient276.npy\n",
            "COVID-19\n",
            "first len: 35\n",
            "after len: 4\n",
            "patient305.npy\n",
            "COVID-19\n",
            "first len: 43\n",
            "after len: 11\n",
            "patient265.npy\n",
            "COVID-19\n",
            "first len: 41\n",
            "after len: 8\n",
            "patient304.npy\n",
            "COVID-19\n",
            "first len: 39\n",
            "after len: 10\n",
            "patient306.npy\n",
            "COVID-19\n",
            "first len: 41\n",
            "after len: 2\n",
            "patient327.npy\n",
            "Normal\n",
            "first len: 36\n",
            "after len: 30\n",
            "patient309.npy\n",
            "COVID-19\n",
            "first len: 41\n",
            "after len: 6\n",
            "patient325.npy\n",
            "CAP\n",
            "first len: 44\n",
            "after len: 2\n",
            "patient298.npy\n",
            "COVID-19\n",
            "first len: 39\n",
            "after len: 5\n",
            "patient263.npy\n",
            "Normal\n",
            "first len: 43\n",
            "after len: 38\n",
            "patient314.npy\n",
            "CAP\n",
            "first len: 37\n",
            "after len: 1\n",
            "patient318.npy\n",
            "Normal\n",
            "first len: 38\n",
            "after len: 31\n",
            "patient274.npy\n",
            "COVID-19\n",
            "first len: 36\n",
            "after len: 7\n",
            "patient320.npy\n",
            "COVID-19\n",
            "first len: 41\n",
            "after len: 12\n",
            "patient322.npy\n",
            "COVID-19\n",
            "first len: 40\n",
            "after len: 4\n",
            "patient272.npy\n",
            "COVID-19\n",
            "first len: 46\n",
            "after len: 13\n",
            "patient339.npy\n",
            "Normal\n",
            "first len: 28\n",
            "after len: 25\n",
            "patient359.npy\n",
            "Normal\n",
            "first len: 29\n",
            "after len: 29\n",
            "patient329.npy\n",
            "CAP\n",
            "first len: 45\n",
            "after len: 1\n",
            "patient343.npy\n",
            "COVID-19\n",
            "first len: 29\n",
            "after len: 5\n"
          ],
          "name": "stdout"
        }
      ]
    },
    {
      "cell_type": "code",
      "metadata": {
        "id": "G6TqyMa9YSZN"
      },
      "source": [
        "new_train_labels, new_val_labels = get_new_labels(results, train_lens, val_lens)\n",
        "new_train_labels2, new_val_labels2 = get_new_labels(results2, train_lens2, val_lens2)"
      ],
      "execution_count": null,
      "outputs": []
    },
    {
      "cell_type": "code",
      "metadata": {
        "id": "TQS9HE_mcTSf"
      },
      "source": [
        "#(old_data, new_data1, new_data2, name, dest_folder)\n",
        "save_new_data(old_train_data, train_data, train_data2, 'extra_train' + this_q + '.npy', new_data_dest) \n",
        "save_new_data(old_val_data, val_data, val_data2, 'extra_val' + this_q + '.npy', new_data_dest) \n",
        "save_new_data(old_train_labels, new_train_labels, new_train_labels2, 'extra_train_labels' + this_q + '.npy', new_data_dest) \n",
        "save_new_data(old_val_labels, new_val_labels, new_val_labels2, 'extra_val_labels' + this_q + '.npy', new_data_dest) "
      ],
      "execution_count": null,
      "outputs": []
    },
    {
      "cell_type": "code",
      "metadata": {
        "id": "mv1V7o6feuVY",
        "colab": {
          "base_uri": "https://localhost:8080/"
        },
        "outputId": "f4a6284f-6f75-4231-8853-6959218aad9b"
      },
      "source": [
        "print(len(old_train_data))\n",
        "print(len(train_data))\n",
        "print(len(val_data))\n",
        "print(len(val_lens))\n",
        "print(len(train_lens))"
      ],
      "execution_count": null,
      "outputs": [
        {
          "output_type": "stream",
          "text": [
            "9274\n",
            "265\n",
            "116\n",
            "8\n",
            "14\n"
          ],
          "name": "stdout"
        }
      ]
    },
    {
      "cell_type": "code",
      "metadata": {
        "id": "Nv9Qg3CYgkwy",
        "colab": {
          "base_uri": "https://localhost:8080/"
        },
        "outputId": "f32adf1e-7241-4e5b-cf15-423c74a94709"
      },
      "source": [
        "len(results)"
      ],
      "execution_count": null,
      "outputs": [
        {
          "output_type": "execute_result",
          "data": {
            "text/plain": [
              "24"
            ]
          },
          "metadata": {
            "tags": []
          },
          "execution_count": 26
        }
      ]
    }
  ]
}