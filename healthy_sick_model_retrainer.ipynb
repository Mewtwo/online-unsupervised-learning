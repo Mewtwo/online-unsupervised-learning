{
  "nbformat": 4,
  "nbformat_minor": 0,
  "metadata": {
    "accelerator": "GPU",
    "colab": {
      "name": "healthy-sick-model-retrainer.ipynb",
      "provenance": [],
      "collapsed_sections": [],
      "machine_shape": "hm"
    },
    "kernelspec": {
      "display_name": "Python 3",
      "name": "python3"
    }
  },
  "cells": [
    {
      "cell_type": "code",
      "metadata": {
        "id": "zxKDtTfr4v22"
      },
      "source": [
        "#imports\n",
        "import os\n",
        "\n",
        "from google.colab import drive\n",
        "import numpy as np\n",
        "import matplotlib as plt\n",
        "from matplotlib import pyplot\n",
        "import pandas as pd\n",
        "import tensorflow as tf\n",
        "\n",
        "from keras.models import Sequential\n",
        "from keras.layers import Dense\n",
        "from sklearn.model_selection import train_test_split\n",
        "import gc\n",
        "\n",
        "from keras.applications.inception_v3 import InceptionV3\n",
        "from keras.preprocessing import image\n",
        "from keras.models import Model\n",
        "from keras.layers import Dense, GlobalAveragePooling2D\n",
        "from keras.optimizers import SGD\n",
        "from keras import backend as K\n",
        "from keras.callbacks import ReduceLROnPlateau\n",
        "from keras.callbacks import ModelCheckpoint\n",
        "\n",
        "import numpy as np\n",
        "import keras\n",
        "from keras import models, layers, Input, regularizers\n",
        "from keras.utils import np_utils\n",
        "from keras.models import Sequential, Model\n",
        "import matplotlib.pyplot as plt\n",
        "from keras.layers import Dense\n",
        "import random\n",
        "random.seed(42)\n",
        "\n",
        "from sklearn.utils import class_weight\n",
        "from sklearn.utils import shuffle"
      ],
      "execution_count": null,
      "outputs": []
    },
    {
      "cell_type": "code",
      "metadata": {
        "colab": {
          "base_uri": "https://localhost:8080/"
        },
        "id": "xQHTFxA8430B",
        "outputId": "d67e6534-9e80-436a-fdf1-c4674a062fce"
      },
      "source": [
        "#loading data from drive\n",
        "drive.mount('/content/drive')\n",
        "os.chdir('/content/drive/My Drive/ICASSP-2021/')"
      ],
      "execution_count": null,
      "outputs": [
        {
          "output_type": "stream",
          "text": [
            "Drive already mounted at /content/drive; to attempt to forcibly remount, call drive.mount(\"/content/drive\", force_remount=True).\n"
          ],
          "name": "stdout"
        }
      ]
    },
    {
      "cell_type": "markdown",
      "metadata": {
        "id": "zppWd91Ej9d7"
      },
      "source": [
        "Toggles that may need to be updated every round are denoted with ###"
      ]
    },
    {
      "cell_type": "code",
      "metadata": {
        "id": "h-HiCNglrWK_"
      },
      "source": [
        "test_set = 'extra-online-data/'  ### location of the new data output from the predictions code\n",
        "training_run = '3'  ### this is equivalent to the quarter number from the predictions code\n",
        "data_file = '/content/drive/My Drive/ICASSP-2021/'"
      ],
      "execution_count": null,
      "outputs": []
    },
    {
      "cell_type": "code",
      "metadata": {
        "id": "Sm3xM5dQJysw"
      },
      "source": [
        "train_val = np.load(data_file + test_set + 'extra_train' + training_run + '.npy')\n",
        "train_val_classes = np.load(data_file + test_set + 'extra_train_labels' + training_run + '.npy') \n",
        "test = np.load(data_file + test_set + 'extra_val' + training_run + '.npy') \n",
        "test_classes = np.load(data_file + test_set + 'extra_val_labels' + training_run + '.npy') "
      ],
      "execution_count": null,
      "outputs": []
    },
    {
      "cell_type": "code",
      "metadata": {
        "id": "f1irxPoRkm9Q"
      },
      "source": [
        "model = keras.models.load_model('/content/drive/My Drive/ICASSP-2021/online-code/models/initial/self.hdf5')"
      ],
      "execution_count": null,
      "outputs": []
    },
    {
      "cell_type": "code",
      "metadata": {
        "id": "fqdWfyCVLGZW"
      },
      "source": [
        "filepath =  '/content/drive/My Drive/ICASSP-2021/' + test_set \n",
        "name = 'healthy-sick-extra' + training_run + '.hdf5' \n",
        "auc = tf.keras.metrics.AUC()\n",
        "calls = tf.keras.callbacks.ModelCheckpoint(\n",
        "    filepath + name, monitor='val_accuracy', verbose=1, save_best_only=True,\n",
        "    save_weights_only=False\n",
        ")"
      ],
      "execution_count": null,
      "outputs": []
    },
    {
      "cell_type": "code",
      "metadata": {
        "id": "ApKKE_ORuC25"
      },
      "source": [
        "max_value = (np.max(train_val))"
      ],
      "execution_count": null,
      "outputs": []
    },
    {
      "cell_type": "code",
      "metadata": {
        "id": "C_j9UGvN4LjP"
      },
      "source": [
        "train_val = train_val / max_value"
      ],
      "execution_count": null,
      "outputs": []
    },
    {
      "cell_type": "code",
      "metadata": {
        "id": "9-5StnLvw2t0"
      },
      "source": [
        "train_val = np.concatenate((train_val, train_val, train_val), axis = -1)"
      ],
      "execution_count": null,
      "outputs": []
    },
    {
      "cell_type": "code",
      "metadata": {
        "id": "9bNdhTpS13ox"
      },
      "source": [
        "train_val_classes2 = []\n",
        "\n",
        "for i in range(len(train_val_classes)):\n",
        "    if (train_val_classes[i] == 2):\n",
        "        train_val_classes[i] = 1\n",
        "    train_val_classes2.append(train_val_classes[i])\n",
        "\n",
        "train_val_classes = np.array(train_val_classes2)\n"
      ],
      "execution_count": null,
      "outputs": []
    },
    {
      "cell_type": "code",
      "metadata": {
        "id": "TPKoU6xZJ3wW"
      },
      "source": [
        "test = test / max_value"
      ],
      "execution_count": null,
      "outputs": []
    },
    {
      "cell_type": "code",
      "metadata": {
        "id": "3DIAQCRbJ46x"
      },
      "source": [
        "test = np.concatenate((test, test, test), axis = -1)"
      ],
      "execution_count": null,
      "outputs": []
    },
    {
      "cell_type": "code",
      "metadata": {
        "id": "b2Pp9H9NJ7g7"
      },
      "source": [
        "test_classes2 = []\n",
        "\n",
        "for i in range(len(test_classes)):\n",
        "    if (test_classes[i] == 2):\n",
        "        test_classes[i] = 1\n",
        "    test_classes2.append(test_classes[i])\n",
        "\n",
        "test_classes = np.array(test_classes2)\n"
      ],
      "execution_count": null,
      "outputs": []
    },
    {
      "cell_type": "code",
      "metadata": {
        "id": "K1hXdX4iKE9R"
      },
      "source": [
        "test_classes = tf.keras.utils.to_categorical(test_classes)"
      ],
      "execution_count": null,
      "outputs": []
    },
    {
      "cell_type": "code",
      "metadata": {
        "id": "lHQsiUju4UlI"
      },
      "source": [
        "train_val, train_val_classes = shuffle(train_val, train_val_classes)"
      ],
      "execution_count": null,
      "outputs": []
    },
    {
      "cell_type": "code",
      "metadata": {
        "colab": {
          "base_uri": "https://localhost:8080/"
        },
        "id": "OfyvVeeDkNhJ",
        "outputId": "ab26b96f-fe29-4d51-a56b-0728de9d0b02"
      },
      "source": [
        "np.unique(train_val_classes, return_counts=True)"
      ],
      "execution_count": null,
      "outputs": [
        {
          "output_type": "execute_result",
          "data": {
            "text/plain": [
              "(array([0., 1.]), array([5652, 3622]))"
            ]
          },
          "metadata": {
            "tags": []
          },
          "execution_count": 17
        }
      ]
    },
    {
      "cell_type": "code",
      "metadata": {
        "id": "FxZu-yv4NFT2"
      },
      "source": [
        "class_weights = class_weight.compute_class_weight('balanced',\n",
        "                                                 np.unique(train_val_classes),\n",
        "                                                 train_val_classes)"
      ],
      "execution_count": null,
      "outputs": []
    },
    {
      "cell_type": "code",
      "metadata": {
        "id": "NCyoxH0CkwkH"
      },
      "source": [
        "train_val_classes = tf.keras.utils.to_categorical(train_val_classes)"
      ],
      "execution_count": null,
      "outputs": []
    },
    {
      "cell_type": "code",
      "metadata": {
        "colab": {
          "base_uri": "https://localhost:8080/"
        },
        "id": "ztUr4UJGOgQT",
        "outputId": "0a3a3875-39cd-4c05-ccab-0979ee4c76a5"
      },
      "source": [
        "class_weights[0]"
      ],
      "execution_count": null,
      "outputs": [
        {
          "output_type": "execute_result",
          "data": {
            "text/plain": [
              "0.8204175513092711"
            ]
          },
          "metadata": {
            "tags": []
          },
          "execution_count": 20
        }
      ]
    },
    {
      "cell_type": "code",
      "metadata": {
        "id": "WG5uaIZqOsS8"
      },
      "source": [
        "class_weights = {0: class_weights[0],\n",
        "                1: class_weights[1]}"
      ],
      "execution_count": null,
      "outputs": []
    },
    {
      "cell_type": "code",
      "metadata": {
        "id": "x-EP_K4DCAm3"
      },
      "source": [
        "#------------------------------------------"
      ],
      "execution_count": null,
      "outputs": []
    },
    {
      "cell_type": "code",
      "metadata": {
        "id": "3Y34TN3608nV"
      },
      "source": [
        "#augs\n",
        "train_datagen = tf.keras.preprocessing.image.ImageDataGenerator(\n",
        "    featurewise_center=False,\n",
        "    samplewise_center=False,\n",
        "    featurewise_std_normalization=False,\n",
        "    samplewise_std_normalization=False,\n",
        "    zca_whitening=False,\n",
        "    zca_epsilon=1e-06,\n",
        "    rotation_range=20,\n",
        "    width_shift_range=0.2,\n",
        "    height_shift_range=0.2,\n",
        "    brightness_range=None,\n",
        "    shear_range=0.0,\n",
        "    zoom_range=0.2,\n",
        "    channel_shift_range=0.0,\n",
        "    fill_mode=\"nearest\",\n",
        "    cval=0.0,\n",
        "    horizontal_flip=True,\n",
        "    vertical_flip=False,\n",
        "    rescale=None,\n",
        "    preprocessing_function=None,\n",
        "    data_format=None,\n",
        "    validation_split=0.0,\n",
        "    dtype=None,\n",
        ")\n",
        "\n",
        "train_generator = train_datagen.flow(train_val, train_val_classes)\n",
        "\n",
        "test_datagen = tf.keras.preprocessing.image.ImageDataGenerator()\n",
        "test_generator = test_datagen.flow(test, test_classes)"
      ],
      "execution_count": null,
      "outputs": []
    },
    {
      "cell_type": "code",
      "metadata": {
        "id": "xUT2w9DRsYgi"
      },
      "source": [
        "train_len = len(train_val)\n",
        "val_len = len(test)"
      ],
      "execution_count": null,
      "outputs": []
    },
    {
      "cell_type": "code",
      "metadata": {
        "colab": {
          "base_uri": "https://localhost:8080/"
        },
        "id": "x2kCIo3_5XI_",
        "outputId": "2c7caf8c-bd8c-4f5c-dab6-7735d2546e19"
      },
      "source": [
        "for layer in model.layers:\n",
        "  layer.trainable = True\n",
        "\n",
        "from keras.optimizers import SGD\n",
        "model.compile(optimizer=tf.keras.optimizers.Adam(learning_rate=0.0001) , loss='categorical_crossentropy', metrics=[\"accuracy\"])\n",
        "\n",
        "hist2 = model.fit_generator(train_generator, steps_per_epoch=train_len//32, validation_data=test_generator, validation_steps=val_len//32, epochs=30, class_weight=class_weights, callbacks=calls, verbose=1)"
      ],
      "execution_count": null,
      "outputs": [
        {
          "output_type": "stream",
          "text": [
            "/usr/local/lib/python3.7/dist-packages/keras/engine/training.py:1915: UserWarning: `Model.fit_generator` is deprecated and will be removed in a future version. Please use `Model.fit`, which supports generators.\n",
            "  warnings.warn('`Model.fit_generator` is deprecated and '\n"
          ],
          "name": "stderr"
        },
        {
          "output_type": "stream",
          "text": [
            "WARNING:tensorflow:From /usr/local/lib/python3.7/dist-packages/tensorflow/python/ops/array_ops.py:5049: calling gather (from tensorflow.python.ops.array_ops) with validate_indices is deprecated and will be removed in a future version.\n",
            "Instructions for updating:\n",
            "The `validate_indices` argument has no effect. Indices are always validated on CPU and never validated on GPU.\n",
            "Epoch 1/30\n",
            "289/289 [==============================] - 197s 420ms/step - loss: 0.6496 - accuracy: 0.7722 - val_loss: 0.3648 - val_accuracy: 0.8701\n",
            "\n",
            "Epoch 00001: val_accuracy improved from -inf to 0.87005, saving model to /content/drive/My Drive/ICASSP-2021/extra-online-data/healthy-sick-extra3.hdf5\n",
            "Epoch 2/30\n",
            "289/289 [==============================] - 109s 371ms/step - loss: 0.3515 - accuracy: 0.8745 - val_loss: 0.4894 - val_accuracy: 0.8671\n",
            "\n",
            "Epoch 00002: val_accuracy did not improve from 0.87005\n",
            "Epoch 3/30\n",
            "289/289 [==============================] - 107s 370ms/step - loss: 0.2755 - accuracy: 0.9151 - val_loss: 0.3795 - val_accuracy: 0.8698\n",
            "\n",
            "Epoch 00003: val_accuracy did not improve from 0.87005\n",
            "Epoch 4/30\n",
            "289/289 [==============================] - 105s 365ms/step - loss: 0.2387 - accuracy: 0.9285 - val_loss: 0.3804 - val_accuracy: 0.8707\n",
            "\n",
            "Epoch 00004: val_accuracy improved from 0.87005 to 0.87073, saving model to /content/drive/My Drive/ICASSP-2021/extra-online-data/healthy-sick-extra3.hdf5\n",
            "Epoch 5/30\n",
            "289/289 [==============================] - 106s 366ms/step - loss: 0.2272 - accuracy: 0.9366 - val_loss: 0.5208 - val_accuracy: 0.8152\n",
            "\n",
            "Epoch 00005: val_accuracy did not improve from 0.87073\n",
            "Epoch 6/30\n",
            "289/289 [==============================] - 104s 362ms/step - loss: 0.1959 - accuracy: 0.9452 - val_loss: 0.3701 - val_accuracy: 0.8860\n",
            "\n",
            "Epoch 00006: val_accuracy improved from 0.87073 to 0.88602, saving model to /content/drive/My Drive/ICASSP-2021/extra-online-data/healthy-sick-extra3.hdf5\n",
            "Epoch 7/30\n",
            "289/289 [==============================] - 105s 364ms/step - loss: 0.1697 - accuracy: 0.9550 - val_loss: 0.4989 - val_accuracy: 0.8300\n",
            "\n",
            "Epoch 00007: val_accuracy did not improve from 0.88602\n",
            "Epoch 8/30\n",
            "289/289 [==============================] - 105s 362ms/step - loss: 0.1912 - accuracy: 0.9483 - val_loss: 0.4525 - val_accuracy: 0.8509\n",
            "\n",
            "Epoch 00008: val_accuracy did not improve from 0.88602\n",
            "Epoch 9/30\n",
            "289/289 [==============================] - 106s 366ms/step - loss: 0.1647 - accuracy: 0.9579 - val_loss: 0.3511 - val_accuracy: 0.8892\n",
            "\n",
            "Epoch 00009: val_accuracy improved from 0.88602 to 0.88916, saving model to /content/drive/My Drive/ICASSP-2021/extra-online-data/healthy-sick-extra3.hdf5\n",
            "Epoch 10/30\n",
            "289/289 [==============================] - 107s 369ms/step - loss: 0.1522 - accuracy: 0.9583 - val_loss: 0.3122 - val_accuracy: 0.8997\n",
            "\n",
            "Epoch 00010: val_accuracy improved from 0.88916 to 0.89973, saving model to /content/drive/My Drive/ICASSP-2021/extra-online-data/healthy-sick-extra3.hdf5\n",
            "Epoch 11/30\n",
            "289/289 [==============================] - 106s 367ms/step - loss: 0.1556 - accuracy: 0.9618 - val_loss: 0.4383 - val_accuracy: 0.8518\n",
            "\n",
            "Epoch 00011: val_accuracy did not improve from 0.89973\n",
            "Epoch 12/30\n",
            "289/289 [==============================] - 106s 368ms/step - loss: 0.1359 - accuracy: 0.9650 - val_loss: 0.3942 - val_accuracy: 0.8754\n",
            "\n",
            "Epoch 00012: val_accuracy did not improve from 0.89973\n",
            "Epoch 13/30\n",
            "289/289 [==============================] - 104s 360ms/step - loss: 0.1400 - accuracy: 0.9641 - val_loss: 0.3807 - val_accuracy: 0.8903\n",
            "\n",
            "Epoch 00013: val_accuracy did not improve from 0.89973\n",
            "Epoch 14/30\n",
            "289/289 [==============================] - 105s 365ms/step - loss: 0.1388 - accuracy: 0.9643 - val_loss: 0.3793 - val_accuracy: 0.8919\n",
            "\n",
            "Epoch 00014: val_accuracy did not improve from 0.89973\n",
            "Epoch 15/30\n",
            "289/289 [==============================] - 106s 367ms/step - loss: 0.1354 - accuracy: 0.9647 - val_loss: 0.4211 - val_accuracy: 0.8696\n",
            "\n",
            "Epoch 00015: val_accuracy did not improve from 0.89973\n",
            "Epoch 16/30\n",
            "289/289 [==============================] - 106s 369ms/step - loss: 0.1350 - accuracy: 0.9661 - val_loss: 0.4872 - val_accuracy: 0.8566\n",
            "\n",
            "Epoch 00016: val_accuracy did not improve from 0.89973\n",
            "Epoch 17/30\n",
            "289/289 [==============================] - 105s 364ms/step - loss: 0.1215 - accuracy: 0.9683 - val_loss: 0.4369 - val_accuracy: 0.8829\n",
            "\n",
            "Epoch 00017: val_accuracy did not improve from 0.89973\n",
            "Epoch 18/30\n",
            "289/289 [==============================] - 105s 364ms/step - loss: 0.1285 - accuracy: 0.9678 - val_loss: 0.7622 - val_accuracy: 0.7938\n",
            "\n",
            "Epoch 00018: val_accuracy did not improve from 0.89973\n",
            "Epoch 19/30\n",
            "289/289 [==============================] - 106s 366ms/step - loss: 0.1218 - accuracy: 0.9707 - val_loss: 0.4307 - val_accuracy: 0.8716\n",
            "\n",
            "Epoch 00019: val_accuracy did not improve from 0.89973\n",
            "Epoch 20/30\n",
            "289/289 [==============================] - 104s 359ms/step - loss: 0.1087 - accuracy: 0.9724 - val_loss: 0.6048 - val_accuracy: 0.8393\n",
            "\n",
            "Epoch 00020: val_accuracy did not improve from 0.89973\n",
            "Epoch 21/30\n",
            "289/289 [==============================] - 105s 363ms/step - loss: 0.1083 - accuracy: 0.9758 - val_loss: 0.4002 - val_accuracy: 0.8761\n",
            "\n",
            "Epoch 00021: val_accuracy did not improve from 0.89973\n",
            "Epoch 22/30\n",
            "289/289 [==============================] - 105s 363ms/step - loss: 0.1262 - accuracy: 0.9710 - val_loss: 0.4457 - val_accuracy: 0.8838\n",
            "\n",
            "Epoch 00022: val_accuracy did not improve from 0.89973\n",
            "Epoch 23/30\n",
            "289/289 [==============================] - 104s 360ms/step - loss: 0.1052 - accuracy: 0.9741 - val_loss: 0.3746 - val_accuracy: 0.8952\n",
            "\n",
            "Epoch 00023: val_accuracy did not improve from 0.89973\n",
            "Epoch 24/30\n",
            "289/289 [==============================] - 105s 365ms/step - loss: 0.1097 - accuracy: 0.9771 - val_loss: 0.4370 - val_accuracy: 0.8838\n",
            "\n",
            "Epoch 00024: val_accuracy did not improve from 0.89973\n",
            "Epoch 25/30\n",
            "289/289 [==============================] - 105s 363ms/step - loss: 0.1061 - accuracy: 0.9765 - val_loss: 0.5930 - val_accuracy: 0.8435\n",
            "\n",
            "Epoch 00025: val_accuracy did not improve from 0.89973\n",
            "Epoch 26/30\n",
            "289/289 [==============================] - 103s 358ms/step - loss: 0.1154 - accuracy: 0.9713 - val_loss: 0.5982 - val_accuracy: 0.8532\n",
            "\n",
            "Epoch 00026: val_accuracy did not improve from 0.89973\n",
            "Epoch 27/30\n",
            "289/289 [==============================] - 104s 361ms/step - loss: 0.1130 - accuracy: 0.9711 - val_loss: 0.5139 - val_accuracy: 0.8478\n",
            "\n",
            "Epoch 00027: val_accuracy did not improve from 0.89973\n",
            "Epoch 28/30\n",
            "289/289 [==============================] - 104s 362ms/step - loss: 0.1051 - accuracy: 0.9751 - val_loss: 0.5559 - val_accuracy: 0.8644\n",
            "\n",
            "Epoch 00028: val_accuracy did not improve from 0.89973\n",
            "Epoch 29/30\n",
            "289/289 [==============================] - 103s 357ms/step - loss: 0.0792 - accuracy: 0.9840 - val_loss: 0.7487 - val_accuracy: 0.7680\n",
            "\n",
            "Epoch 00029: val_accuracy did not improve from 0.89973\n",
            "Epoch 30/30\n",
            "289/289 [==============================] - 103s 358ms/step - loss: 0.1081 - accuracy: 0.9724 - val_loss: 0.8163 - val_accuracy: 0.8296\n",
            "\n",
            "Epoch 00030: val_accuracy did not improve from 0.89973\n"
          ],
          "name": "stdout"
        }
      ]
    },
    {
      "cell_type": "code",
      "metadata": {
        "id": "4ZuH58ZzsKsF"
      },
      "source": [
        "model = keras.models.load_model(filepath + name)"
      ],
      "execution_count": null,
      "outputs": []
    },
    {
      "cell_type": "code",
      "metadata": {
        "colab": {
          "base_uri": "https://localhost:8080/"
        },
        "id": "kzs1KkRF7UET",
        "outputId": "36ef97b2-79d6-4803-ad58-8d9b0b346f77"
      },
      "source": [
        "from sklearn.metrics import confusion_matrix, accuracy_score\n",
        "\n",
        "probs = model.predict(test)\n",
        "y_pred = np.argmax(probs, axis = 1)\n",
        "y_true = np.argmax(test_classes, axis = 1)\n",
        "\n",
        "confusion_matrix(y_true, y_pred)"
      ],
      "execution_count": null,
      "outputs": [
        {
          "output_type": "execute_result",
          "data": {
            "text/plain": [
              "array([[2380,  123],\n",
              "       [ 324, 1624]])"
            ]
          },
          "metadata": {
            "tags": []
          },
          "execution_count": 27
        }
      ]
    },
    {
      "cell_type": "code",
      "metadata": {
        "id": "OP_ugseBTrsR",
        "colab": {
          "base_uri": "https://localhost:8080/"
        },
        "outputId": "14e57140-6eff-4d79-a742-86e9dff81bbb"
      },
      "source": [
        "from sklearn.metrics import recall_score\n",
        "recalls = recall_score(y_true, y_pred, average=None)\n",
        "recalls"
      ],
      "execution_count": null,
      "outputs": [
        {
          "output_type": "execute_result",
          "data": {
            "text/plain": [
              "array([0.95085897, 0.83367556])"
            ]
          },
          "metadata": {
            "tags": []
          },
          "execution_count": 28
        }
      ]
    },
    {
      "cell_type": "code",
      "metadata": {
        "id": "rhyLYdAhUocR"
      },
      "source": [
        "recalls = np.array(recalls)\n",
        "np.save('/content/drive/My Drive/ICASSP-2021/online-code/recalls/' + test_set + 'h_recalls' + training_run + '.npy', recalls)"
      ],
      "execution_count": null,
      "outputs": []
    },
    {
      "cell_type": "code",
      "metadata": {
        "colab": {
          "base_uri": "https://localhost:8080/"
        },
        "id": "X7Z9dDzT7WBj",
        "outputId": "342283d5-1d61-47ea-b3fe-00231e0340bb"
      },
      "source": [
        "print(accuracy_score(y_true, y_pred))"
      ],
      "execution_count": null,
      "outputs": [
        {
          "output_type": "stream",
          "text": [
            "0.8995731296337902\n"
          ],
          "name": "stdout"
        }
      ]
    }
  ]
}